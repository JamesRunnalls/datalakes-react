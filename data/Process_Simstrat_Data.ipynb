{
 "cells": [
  {
   "cell_type": "code",
   "execution_count": 3,
   "metadata": {},
   "outputs": [],
   "source": [
    "import pandas as pd\n",
    "import numpy as np\n",
    "import matplotlib.pyplot as plt\n",
    "import matplotlib.animation as animation\n",
    "import seaborn as sns\n",
    "import os\n",
    "#import re\n",
    "%matplotlib notebook"
   ]
  },
  {
   "cell_type": "markdown",
   "metadata": {},
   "source": [
    "Convertion Equations"
   ]
  },
  {
   "cell_type": "code",
   "execution_count": 4,
   "metadata": {},
   "outputs": [],
   "source": [
    "# Convert CH y/x to WGS lat\n",
    "def CHtoWGSlat(y, x):\n",
    "    # Axiliary values (% Bern)\n",
    "    y_aux = (y - 600000) / 1000000\n",
    "    x_aux = (x - 200000) / 1000000\n",
    "    lat = (16.9023892 + (3.238272 * x_aux)) + \\\n",
    "            - (0.270978 * pow(y_aux, 2)) + \\\n",
    "            - (0.002528 * pow(x_aux, 2)) + \\\n",
    "            - (0.0447 * pow(y_aux, 2) * x_aux) + \\\n",
    "            - (0.0140 * pow(x_aux, 3))\n",
    "    # Unit 10000\" to 1\" and convert seconds to degrees (dec)\n",
    "    lat = (lat * 100) / 36\n",
    "    return lat\n",
    "\n",
    "# Convert CH y/x to WGS long\n",
    "def CHtoWGSlng(y, x):\n",
    "    # Axiliary values (% Bern)\n",
    "    y_aux = (y - 600000) / 1000000\n",
    "    x_aux = (x - 200000) / 1000000\n",
    "    lng = (2.6779094 + (4.728982 * y_aux) + \\\n",
    "            + (0.791484 * y_aux * x_aux) + \\\n",
    "            + (0.1306 * y_aux * pow(x_aux, 2))) + \\\n",
    "            - (0.0436 * pow(y_aux, 3))\n",
    "    # Unit 10000\" to 1\" and convert seconds to degrees (dec)\n",
    "    lng = (lng * 100) / 36\n",
    "    return lng"
   ]
  },
  {
   "cell_type": "markdown",
   "metadata": {},
   "source": [
    "Import Data"
   ]
  },
  {
   "cell_type": "code",
   "execution_count": 84,
   "metadata": {},
   "outputs": [],
   "source": [
    "def processData(dw,dh,file):\n",
    "    df_data = pd.read_csv(file, header=None)\n",
    "    nc = len(df_data.columns) # Total number of columns\n",
    "    dr = int(nc/dw) - 3; # Number of data sets\n",
    "    df = pd.DataFrame()\n",
    "    df_x = df_data.loc[:, 0:(1*dw)-1]\n",
    "    df_y = df_data.loc[:, (1*dw):(2*dw)-1]\n",
    "    df_r = df_data.loc[:, (3*dw):(4*dw)-1]\n",
    "    x = []\n",
    "    x1 = []\n",
    "    x2 = []\n",
    "    x3 = []\n",
    "    x4 = []\n",
    "    x5 = []\n",
    "    x6 = []\n",
    "    x7 = []\n",
    "    x8 = []\n",
    "    y = []\n",
    "    y1 = []\n",
    "    y2 = []\n",
    "    y3 = []\n",
    "    y4 = []\n",
    "    y5 = []\n",
    "    y6 = []\n",
    "    y7 = []\n",
    "    y8 = []\n",
    "    r = []\n",
    "\n",
    "    for yy in range(1,len(df_x.columns)-1):\n",
    "        for xx in range(1,len(df_x.index)-1):\n",
    "            x.append(df_x.iloc[xx,yy])\n",
    "            x1.append(df_x.iloc[xx-1,yy+1])\n",
    "            x2.append(df_x.iloc[xx,yy+1])\n",
    "            x3.append(df_x.iloc[xx+1,yy+1])\n",
    "            x4.append(df_x.iloc[xx+1,yy])\n",
    "            x5.append(df_x.iloc[xx+1,yy-1])\n",
    "            x6.append(df_x.iloc[xx,yy-1])\n",
    "            x7.append(df_x.iloc[xx-1,yy-1])\n",
    "            x8.append(df_x.iloc[xx-1,yy])\n",
    "            y.append(df_y.iloc[xx,yy])\n",
    "            y1.append(df_y.iloc[xx-1,yy+1])\n",
    "            y2.append(df_y.iloc[xx,yy+1])\n",
    "            y3.append(df_y.iloc[xx+1,yy+1])\n",
    "            y4.append(df_y.iloc[xx+1,yy])\n",
    "            y5.append(df_y.iloc[xx+1,yy-1])\n",
    "            y6.append(df_y.iloc[xx,yy-1])\n",
    "            y7.append(df_y.iloc[xx-1,yy-1])\n",
    "            y8.append(df_y.iloc[xx-1,yy])\n",
    "            r.append(df_r.iloc[xx,yy])\n",
    "\n",
    "    df_j = pd.DataFrame(list(zip(x,x1,x2,x3,x4,x5,x6,x7,x8,y,y1,y2,y3,y4,y5,y6,y7,y8,r)),columns=['x','x1','x2','x3','x4','x5','x6','x7','x8','y','y1','y2','y3','y4','y5','y6','y7','y8','r'])\n",
    "\n",
    "    df_k = df_j[np.isfinite(df_j['r'])].reset_index(drop=True)\n",
    "    df_k = df_k[df_k['x'] != 0].reset_index(drop=True)\n",
    "    df_k = df_k[df_k['x'] != -999.999].reset_index(drop=True)\n",
    "    df_k = df_k[df_k['r'] != np.nan].reset_index(drop=True)\n",
    "    df_k = df_k[df_k['x'] != np.nan].reset_index(drop=True)\n",
    "        \n",
    "    df_k[\"ntr_x\"] = df_k[['x','x2', 'x3','x4']].mean(axis=1)\n",
    "    df_k[\"nbr_x\"] = df_k[['x','x4', 'x5','x6']].mean(axis=1)\n",
    "    df_k[\"nbl_x\"] = df_k[['x','x6', 'x7','x8']].mean(axis=1)\n",
    "    df_k[\"ntl_x\"] = df_k[['x','x8', 'x1','x2']].mean(axis=1)\n",
    "    df_k[\"ntr_y\"] = df_k[['y','y2', 'y3','y4']].mean(axis=1)\n",
    "    df_k[\"nbr_y\"] = df_k[['y','y4', 'y5','y6']].mean(axis=1)\n",
    "    df_k[\"nbl_y\"] = df_k[['y','y6', 'y7','y8']].mean(axis=1)\n",
    "    df_k[\"ntl_y\"] = df_k[['y','y8', 'y1','y2']].mean(axis=1)\n",
    "\n",
    "    df_k[\"tr_x\"] = df_k.apply(lambda x: CHtoWGSlat(x['ntr_x'], x['ntr_y']), axis=1)\n",
    "    df_k[\"tr_y\"] = df_k.apply(lambda x: CHtoWGSlng(x['ntr_x'], x['ntr_y']), axis=1)\n",
    "    df_k[\"br_x\"] = df_k.apply(lambda x: CHtoWGSlat(x['nbr_x'], x['nbr_y']), axis=1)\n",
    "    df_k[\"br_y\"] = df_k.apply(lambda x: CHtoWGSlng(x['nbr_x'], x['nbr_y']), axis=1)\n",
    "    df_k[\"bl_x\"] = df_k.apply(lambda x: CHtoWGSlat(x['nbl_x'], x['nbl_y']), axis=1)\n",
    "    df_k[\"bl_y\"] = df_k.apply(lambda x: CHtoWGSlng(x['nbl_x'], x['nbl_y']), axis=1)\n",
    "    df_k[\"tl_x\"] = df_k.apply(lambda x: CHtoWGSlat(x['ntl_x'], x['ntl_y']), axis=1)\n",
    "    df_k[\"tl_y\"] = df_k.apply(lambda x: CHtoWGSlng(x['ntl_x'], x['ntl_y']), axis=1)\n",
    "    \n",
    "    json = \"[\"\n",
    "    for index, row in df_k.iterrows():\n",
    "        json = (json+'{\"v\":'+\n",
    "                str(row['r'])+',\"g\":[['+\n",
    "                str(row['tr_x'])+\",\"+\n",
    "                str(row['tr_y'])+\"],[\"+\n",
    "                str(row['br_x'])+\",\"+\n",
    "                str(row['br_y'])+\"],[\"+\n",
    "                str(row['bl_x'])+\",\"+\n",
    "                str(row['bl_y'])+\"],[\"+\n",
    "                str(row['tl_x'])+\",\"+\n",
    "                str(row['tl_y'])+\"]]},\")\n",
    "    json = json[:-1] + \"]\"\n",
    "    return json"
   ]
  },
  {
   "cell_type": "code",
   "execution_count": null,
   "metadata": {},
   "outputs": [],
   "source": []
  },
  {
   "cell_type": "markdown",
   "metadata": {},
   "source": [
    "Wrangle Data"
   ]
  },
  {
   "cell_type": "code",
   "execution_count": 53,
   "metadata": {},
   "outputs": [],
   "source": [
    "out = ('[{\"name\":\"Lake Geneva\",\"data\":'+\n",
    "       processData(36,182,\"geneva.csv\")+\n",
    "       '},{\"name\":\"Upper Lake Zurich\",\"data\":'+\n",
    "       processData(34,212,\"zurich.csv\")+\n",
    "       '},{\"name\":\"Greifensee\",\"data\":'+\n",
    "       processData(109,28,\"greif.csv\")+\n",
    "       '},{\"name\":\"Lake Biel\",\"data\":'+\n",
    "       processData(28,132,\"biel.csv\")+'}]')\n",
    "with open('data.json', 'w') as f:\n",
    "    f.write(out)"
   ]
  },
  {
   "cell_type": "code",
   "execution_count": null,
   "metadata": {},
   "outputs": [],
   "source": []
  },
  {
   "cell_type": "code",
   "execution_count": null,
   "metadata": {},
   "outputs": [],
   "source": []
  },
  {
   "cell_type": "code",
   "execution_count": null,
   "metadata": {},
   "outputs": [],
   "source": []
  },
  {
   "cell_type": "code",
   "execution_count": null,
   "metadata": {},
   "outputs": [],
   "source": []
  },
  {
   "cell_type": "code",
   "execution_count": null,
   "metadata": {},
   "outputs": [],
   "source": []
  },
  {
   "cell_type": "code",
   "execution_count": null,
   "metadata": {},
   "outputs": [],
   "source": []
  },
  {
   "cell_type": "code",
   "execution_count": null,
   "metadata": {},
   "outputs": [],
   "source": []
  },
  {
   "cell_type": "code",
   "execution_count": null,
   "metadata": {},
   "outputs": [],
   "source": []
  }
 ],
 "metadata": {
  "kernelspec": {
   "display_name": "Python 3",
   "language": "python",
   "name": "python3"
  },
  "language_info": {
   "codemirror_mode": {
    "name": "ipython",
    "version": 3
   },
   "file_extension": ".py",
   "mimetype": "text/x-python",
   "name": "python",
   "nbconvert_exporter": "python",
   "pygments_lexer": "ipython3",
   "version": "3.7.3"
  }
 },
 "nbformat": 4,
 "nbformat_minor": 2
}
